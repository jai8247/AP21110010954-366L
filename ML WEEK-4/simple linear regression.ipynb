{
 "cells": [
  {
   "cell_type": "markdown",
   "id": "7feabd21",
   "metadata": {},
   "source": [
    "### Simple Linear Regression"
   ]
  },
  {
   "cell_type": "markdown",
   "id": "21dfe2ab",
   "metadata": {},
   "source": [
    "####  1.Implement Linear Regression and calculate sum of residual error on the following Datasets.                                                                                     x = [0, 1, 2, 3, 4, 5, 6, 7, 8, 9]                                 y = [1, 3, 2, 5, 7, 8, 8, 9, 10, 12]\n"
   ]
  },
  {
   "cell_type": "code",
   "execution_count": 1,
   "id": "5c373127",
   "metadata": {},
   "outputs": [],
   "source": [
    "import numpy as np"
   ]
  },
  {
   "cell_type": "markdown",
   "id": "6df22ae6",
   "metadata": {},
   "source": [
    "###### Compute the regression coefficients using analytic formulation and calculate Sum Squared Error (SSE) and R 2 value."
   ]
  },
  {
   "cell_type": "code",
   "execution_count": 2,
   "id": "3855e4ca",
   "metadata": {},
   "outputs": [],
   "source": [
    "import numpy as np\n",
    "\n",
    "def linear_regression(x, y):\n",
    "    x_mean = np.mean(x)\n",
    "    y_mean = np.mean(y)\n",
    "\n",
    "    numerator = np.sum((x - x_mean) * (y - y_mean))\n",
    "    denominator = np.sum((x - x_mean)**2)\n",
    "    b1 = numerator / denominator\n",
    "    b0 = y_mean - b1 * x_mean\n",
    "\n",
    "    y_pred = b0 + b1 * x\n",
    "\n",
    "    sse = np.sum((y - y_pred)**2)\n",
    "    sst = np.sum((y - y_mean)**2)\n",
    "\n",
    "    r_squared = 1 - sse / sst\n",
    "\n",
    "    return b0, b1, sse, r_squared"
   ]
  },
  {
   "cell_type": "code",
   "execution_count": 3,
   "id": "b77a0df3",
   "metadata": {},
   "outputs": [],
   "source": [
    "x = np.array([0, 1, 2, 3, 4, 5, 6, 7, 8, 9])\n",
    "y = np.array([1, 3, 2, 5, 7, 8, 8, 9, 10, 12])\n"
   ]
  },
  {
   "cell_type": "code",
   "execution_count": 4,
   "id": "c75eb7cb",
   "metadata": {},
   "outputs": [],
   "source": [
    "intercept, slope, sum_squared_error, r_squared = linear_regression(x, y)"
   ]
  },
  {
   "cell_type": "code",
   "execution_count": 5,
   "id": "0bcfd0e7",
   "metadata": {},
   "outputs": [
    {
     "name": "stdout",
     "output_type": "stream",
     "text": [
      "Regression Coefficients:\n",
      "Intercept (b0): 1.2363636363636363\n",
      "Slope (b1): 1.1696969696969697\n",
      "\n",
      "Sum of Squared Error (SSE): 5.624242424242423\n",
      "Coefficient of Determination (R^2): 0.952538038613988\n"
     ]
    }
   ],
   "source": [
    "print(\"Regression Coefficients:\")\n",
    "print(\"Intercept (b0):\", intercept)\n",
    "print(\"Slope (b1):\", slope)\n",
    "print(\"\\nSum of Squared Error (SSE):\", sum_squared_error)\n",
    "print(\"Coefficient of Determination (R^2):\", r_squared)"
   ]
  },
  {
   "cell_type": "markdown",
   "id": "226806aa",
   "metadata": {},
   "source": [
    "##### Implement gradient descent (both Full-batch and Stochastic with stopping criteria) on Least Mean Square loss formulation to compute the coefficients ofregression matrix and compare the results using performance measures such as R 2 SSE etc."
   ]
  },
  {
   "cell_type": "code",
   "execution_count": 6,
   "id": "89605349",
   "metadata": {},
   "outputs": [
    {
     "name": "stdout",
     "output_type": "stream",
     "text": [
      "\n",
      "Full-batch Gradient Descent:\n",
      "b0: 1.230898466943318\n",
      "b1: 1.170568526128318\n",
      "SSE: 5.624329890820989\n"
     ]
    }
   ],
   "source": [
    "def full_batch_gradient_descent(x, y, learning_rate=0.01, epochs=1000, tolerance=1e-6):\n",
    "    n = len(x)\n",
    "    b0 = 0\n",
    "    b1 = 0\n",
    "    prev_loss = float('inf')\n",
    "\n",
    "    for epoch in range(epochs):\n",
    "        y_pred = b0 + b1*x\n",
    "\n",
    "        gradient_b0 = (-2/n) * np.sum(y - y_pred)\n",
    "        gradient_b1 = (-2/n) * np.sum((y - y_pred) * x)\n",
    "\n",
    "        b0 -= learning_rate * gradient_b0\n",
    "        b1 -= learning_rate * gradient_b1\n",
    "\n",
    "        loss = np.sum((y - y_pred)**2)\n",
    "\n",
    "        if abs(prev_loss - loss) < tolerance:\n",
    "            break\n",
    "\n",
    "        prev_loss = loss\n",
    "\n",
    "    return b0, b1, loss\n",
    "\n",
    "b0_full, b1_full, sse_full = full_batch_gradient_descent(x, y)\n",
    "print(\"\\nFull-batch Gradient Descent:\")\n",
    "print(\"b0:\", b0_full)\n",
    "print(\"b1:\", b1_full)\n",
    "print(\"SSE:\", sse_full)"
   ]
  },
  {
   "cell_type": "code",
   "execution_count": 7,
   "id": "432ddd69",
   "metadata": {},
   "outputs": [
    {
     "name": "stdout",
     "output_type": "stream",
     "text": [
      "\n",
      "Stochastic Gradient Descent:\n",
      "b0 1.295730227508658\n",
      "b1: 1.167333953358678\n",
      "SSE: 5.648452161621316\n"
     ]
    }
   ],
   "source": [
    "def stochastic_gradient_descent(x, y, learning_rate=0.01, epochs=1000, tolerance=1e-6):\n",
    "    n = len(x)\n",
    "    b0 = 0\n",
    "    b1 = 0\n",
    "    prev_loss = float('inf')\n",
    "\n",
    "    for epoch in range(epochs):\n",
    "\n",
    "        indices = np.random.permutation(n)\n",
    "        x_shuffled = x[indices]\n",
    "        y_shuffled = y[indices]\n",
    "\n",
    "        for i in range(n):\n",
    "            y_pred = b0 + b1*x_shuffled[i]\n",
    "\n",
    "            gradient_b0 = -2 * (y_shuffled[i] - y_pred)\n",
    "            gradient_b1 = -2 * (y_shuffled[i] - y_pred) * x_shuffled[i]\n",
    "\n",
    "            b0 -= learning_rate * gradient_b0\n",
    "            b1 -= learning_rate * gradient_b1\n",
    "\n",
    "        y_pred = b0 + b1*x\n",
    "        loss = np.sum((y - y_pred)**2)\n",
    "\n",
    "        if abs(prev_loss - loss) < tolerance:\n",
    "            break\n",
    "\n",
    "        prev_loss = loss\n",
    "\n",
    "    return b0, b1, loss\n",
    "\n",
    "\n",
    "b0_stochastic, b1_stochastic, sse_stochastic = stochastic_gradient_descent(x, y)\n",
    "print(\"\\nStochastic Gradient Descent:\")\n",
    "print(\"b0\", b0_stochastic)\n",
    "print(\"b1:\", b1_stochastic)\n",
    "print(\"SSE:\", sse_stochastic)"
   ]
  },
  {
   "cell_type": "markdown",
   "id": "d2961fed",
   "metadata": {},
   "source": [
    "##### 2. Download Boston Housing Rate Dataset. Analyse the input attributes and find out the attribute that best follow the linear relationship with the output price. Implement both the analytic formulation and gradient descent (Full-batch, stochastic) on LMS loss formulation to compute the coefficients of regression matrix and compare the results."
   ]
  },
  {
   "cell_type": "code",
   "execution_count": 12,
   "id": "a19e6701",
   "metadata": {},
   "outputs": [
    {
     "name": "stdout",
     "output_type": "stream",
     "text": [
      "Coefficients using Analytic Formulation: [44459.72916908 41933.84939381]\n",
      "Coefficients using Full-batch Gradient Descent: [39148.47787113 43047.96802282]\n",
      "Coefficients using Stochastic Gradient Descent: [56096.59190279 33019.73755661]\n"
     ]
    }
   ],
   "source": [
    "import pandas as pd\n",
    "import numpy as np\n",
    "from sklearn.model_selection import train_test_split\n",
    "\n",
    "housing_data = pd.read_csv(\"california housing.csv\")\n",
    "\n",
    "selected_attribute = 'median_income'\n",
    "X = housing_data[selected_attribute].values.reshape(-1, 1)\n",
    "y = housing_data['median_house_value'].values\n",
    "\n",
    "X_train, X_test, y_train, y_test = train_test_split(X, y, test_size=0.2, random_state=42)\n",
    "\n",
    "X_train_with_intercept = np.c_[np.ones(X_train.shape[0]), X_train]\n",
    "X_test_with_intercept = np.c_[np.ones(X_test.shape[0]), X_test]\n",
    "\n",
    "theta_analytic = np.linalg.inv(X_train_with_intercept.T.dot(X_train_with_intercept)).dot(X_train_with_intercept.T).dot(y_train)\n",
    "print(\"Coefficients using Analytic Formulation:\", theta_analytic)\n",
    "\n",
    "def full_batch_gradient_descent(X, y, learning_rate, num_iterations):\n",
    "    theta = np.zeros(X.shape[1])\n",
    "    for _ in range(num_iterations):\n",
    "        y_pred = X.dot(theta)\n",
    "        theta -= (1/len(y)) * learning_rate * X.T.dot(y_pred - y)\n",
    "    return theta\n",
    "learning_rate = 0.01\n",
    "num_iterations = 1000\n",
    "theta_full_batch = full_batch_gradient_descent(X_train_with_intercept, y_train, learning_rate, num_iterations)\n",
    "print(\"Coefficients using Full-batch Gradient Descent:\", theta_full_batch)\n",
    "\n",
    "def stochastic_gradient_descent(X, y, learning_rate, num_iterations):\n",
    "    theta = np.zeros(X.shape[1])\n",
    "    m = len(y)  # Number of training examples\n",
    "\n",
    "    # Shuffle the training data once before training\n",
    "    shuffle_index = np.random.permutation(len(y))\n",
    "    X_shuffled = X[shuffle_index]\n",
    "    y_shuffled = y[shuffle_index]\n",
    "\n",
    "    # SGD loop\n",
    "    for _ in range(num_iterations):\n",
    "        for xi, yi in zip(X_shuffled, y_shuffled):\n",
    "            y_pred = np.dot(xi, theta)\n",
    "            gradient = xi * (y_pred - yi)\n",
    "            theta -= learning_rate * gradient\n",
    "\n",
    "    return theta\n",
    "\n",
    "theta_stochastic = stochastic_gradient_descent(X_train_with_intercept, y_train, learning_rate, num_iterations)\n",
    "print(\"Coefficients using Stochastic Gradient Descent:\", theta_stochastic)\n"
   ]
  },
  {
   "cell_type": "code",
   "execution_count": 14,
   "id": "8b4a999d",
   "metadata": {},
   "outputs": [
    {
     "name": "stdout",
     "output_type": "stream",
     "text": [
      "SSE and R-squared value:\n",
      "Analytic Formulation: SSE = 29272299281848.188 , R-squared = 0.45885918903846656\n",
      "Full-batch Gradient Descent: SSE = 29321631561932.883 , R-squared = 0.4579472104543938\n",
      "Stochastic Gradient Descent: SSE = 32417682565702.273 , R-squared = 0.4007122274820465\n"
     ]
    }
   ],
   "source": [
    "\n",
    "y_pred_analytic = X_test_with_intercept.dot(theta_analytic)\n",
    "y_pred_full_batch = X_test_with_intercept.dot(theta_full_batch)\n",
    "y_pred_stochastic = X_test_with_intercept.dot(theta_stochastic)\n",
    "\n",
    "\n",
    "SSE_analytic = np.sum((y_test - y_pred_analytic) ** 2)\n",
    "SSE_full_batch = np.sum((y_test - y_pred_full_batch) ** 2)\n",
    "SSE_stochastic = np.sum((y_test - y_pred_stochastic) ** 2)\n",
    "\n",
    "\n",
    "mean_y = np.mean(y_test)\n",
    "SST = np.sum((y_test - mean_y) ** 2)\n",
    "\n",
    "\n",
    "R_squared_analytic = 1 - (SSE_analytic / SST)\n",
    "R_squared_full_batch = 1 - (SSE_full_batch / SST)\n",
    "R_squared_stochastic = 1 - (SSE_stochastic / SST)\n",
    "\n",
    "print(\"SSE and R-squared value:\")\n",
    "print(\"Analytic Formulation: SSE =\", SSE_analytic, \", R-squared =\", R_squared_analytic)\n",
    "print(\"Full-batch Gradient Descent: SSE =\", SSE_full_batch, \", R-squared =\", R_squared_full_batch)\n",
    "print(\"Stochastic Gradient Descent: SSE =\", SSE_stochastic, \", R-squared =\", R_squared_stochastic)"
   ]
  },
  {
   "cell_type": "code",
   "execution_count": null,
   "id": "a467f9f2",
   "metadata": {},
   "outputs": [],
   "source": []
  }
 ],
 "metadata": {
  "kernelspec": {
   "display_name": "Python 3 (ipykernel)",
   "language": "python",
   "name": "python3"
  },
  "language_info": {
   "codemirror_mode": {
    "name": "ipython",
    "version": 3
   },
   "file_extension": ".py",
   "mimetype": "text/x-python",
   "name": "python",
   "nbconvert_exporter": "python",
   "pygments_lexer": "ipython3",
   "version": "3.10.9"
  }
 },
 "nbformat": 4,
 "nbformat_minor": 5
}
