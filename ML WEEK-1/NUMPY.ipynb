{
 "cells": [
  {
   "cell_type": "markdown",
   "id": "8288f2bd",
   "metadata": {},
   "source": [
    "1) Write a NumPy program to multiply two given arrays of same size element-by-element."
   ]
  },
  {
   "cell_type": "code",
   "execution_count": 1,
   "id": "ea8ccf17",
   "metadata": {},
   "outputs": [],
   "source": [
    "import numpy as np"
   ]
  },
  {
   "cell_type": "code",
   "execution_count": 5,
   "id": "771ed9a1",
   "metadata": {},
   "outputs": [
    {
     "name": "stdout",
     "output_type": "stream",
     "text": [
      "[[ 6 20 42]\n",
      " [24 36  5]]\n"
     ]
    }
   ],
   "source": [
    "array1 = np.array([[2,4,6],\n",
    "                  [3,4,5]])\n",
    "array2 = np.array([[3,5,7],\n",
    "                  [8,9,1]])\n",
    "result = array1 * array2\n",
    "print(result)"
   ]
  },
  {
   "cell_type": "markdown",
   "id": "559cdd12",
   "metadata": {},
   "source": [
    "2.Write a NumPy program to find the missing data in a given array."
   ]
  },
  {
   "cell_type": "code",
   "execution_count": 6,
   "id": "ca27de60",
   "metadata": {},
   "outputs": [],
   "source": [
    "import numpy as np"
   ]
  },
  {
   "cell_type": "code",
   "execution_count": 7,
   "id": "4eb5ee43",
   "metadata": {},
   "outputs": [
    {
     "name": "stdout",
     "output_type": "stream",
     "text": [
      "[False False  True]\n"
     ]
    }
   ],
   "source": [
    "data = np.array([2,4,np.nan])\n",
    "missing_mask = np.isnan(data)\n",
    "print(missing_mask)"
   ]
  },
  {
   "cell_type": "markdown",
   "id": "37a95873",
   "metadata": {},
   "source": [
    "3.Write a NumPy program to test whether each element of a 1-D array is also present in a second array."
   ]
  },
  {
   "cell_type": "code",
   "execution_count": 8,
   "id": "b6c07393",
   "metadata": {},
   "outputs": [],
   "source": [
    "import numpy as np"
   ]
  },
  {
   "cell_type": "code",
   "execution_count": 11,
   "id": "adfc3dc4",
   "metadata": {},
   "outputs": [
    {
     "name": "stdout",
     "output_type": "stream",
     "text": [
      "[False False  True  True False]\n"
     ]
    }
   ],
   "source": [
    "array1 = np.array([1, 2, 3, 4, 5])\n",
    "array2 = np.array([3, 4, 7, 8, 9])\n",
    "result = np.in1d(array1,array2)\n",
    "print(result)"
   ]
  },
  {
   "cell_type": "markdown",
   "id": "be694733",
   "metadata": {},
   "source": [
    "4.Write a NumPy program to save a NumPy array to a text file. "
   ]
  },
  {
   "cell_type": "code",
   "execution_count": 12,
   "id": "419fcdb8",
   "metadata": {},
   "outputs": [],
   "source": [
    "import numpy as np"
   ]
  },
  {
   "cell_type": "code",
   "execution_count": 16,
   "id": "d70d1343",
   "metadata": {},
   "outputs": [
    {
     "name": "stdout",
     "output_type": "stream",
     "text": [
      "Array has been saved to 'numpy.txt'\n"
     ]
    }
   ],
   "source": [
    "my_array = np.array([[1, 2, 3], [4, 5, 6], [7, 8, 9]])\n",
    "np.savetxt('numpy.txt', my_array, fmt='%d', delimiter=',')\n",
    "\n",
    "print(\"Array has been saved to 'numpy.txt'\")"
   ]
  },
  {
   "cell_type": "markdown",
   "id": "a263d240",
   "metadata": {},
   "source": [
    "5.Write a NumPy program to Create a 1-D array of 30 evenly spaced elements between 2.5, and 6.5, inclusive."
   ]
  },
  {
   "cell_type": "code",
   "execution_count": 17,
   "id": "1790eef7",
   "metadata": {},
   "outputs": [
    {
     "name": "stdout",
     "output_type": "stream",
     "text": [
      "[2.5        2.63793103 2.77586207 2.9137931  3.05172414 3.18965517\n",
      " 3.32758621 3.46551724 3.60344828 3.74137931 3.87931034 4.01724138\n",
      " 4.15517241 4.29310345 4.43103448 4.56896552 4.70689655 4.84482759\n",
      " 4.98275862 5.12068966 5.25862069 5.39655172 5.53448276 5.67241379\n",
      " 5.81034483 5.94827586 6.0862069  6.22413793 6.36206897 6.5       ]\n"
     ]
    }
   ],
   "source": [
    "import numpy as np\n",
    "arr = np.linspace(2.5, 6.5, 30, endpoint=True)\n",
    "print(arr)"
   ]
  },
  {
   "cell_type": "code",
   "execution_count": null,
   "id": "39287c2e",
   "metadata": {},
   "outputs": [],
   "source": []
  }
 ],
 "metadata": {
  "kernelspec": {
   "display_name": "Python 3 (ipykernel)",
   "language": "python",
   "name": "python3"
  },
  "language_info": {
   "codemirror_mode": {
    "name": "ipython",
    "version": 3
   },
   "file_extension": ".py",
   "mimetype": "text/x-python",
   "name": "python",
   "nbconvert_exporter": "python",
   "pygments_lexer": "ipython3",
   "version": "3.10.9"
  }
 },
 "nbformat": 4,
 "nbformat_minor": 5
}
