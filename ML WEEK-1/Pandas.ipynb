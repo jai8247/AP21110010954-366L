{
 "cells": [
  {
   "cell_type": "markdown",
   "id": "6cef8025",
   "metadata": {},
   "source": [
    "### pandas"
   ]
  },
  {
   "cell_type": "markdown",
   "id": "9308ad94",
   "metadata": {},
   "source": [
    "1.Write a Pandas program to convert Series of lists to one Series."
   ]
  },
  {
   "cell_type": "code",
   "execution_count": 2,
   "id": "7266641d",
   "metadata": {},
   "outputs": [
    {
     "name": "stdout",
     "output_type": "stream",
     "text": [
      "Original Series of Lists:\n",
      "0    [1, 2, 3]\n",
      "1    [4, 5, 6]\n",
      "2    [7, 8, 9]\n",
      "dtype: object\n",
      "\n",
      "Converted Series:\n",
      "0    1\n",
      "0    2\n",
      "0    3\n",
      "1    4\n",
      "1    5\n",
      "1    6\n",
      "2    7\n",
      "2    8\n",
      "2    9\n",
      "dtype: object\n"
     ]
    }
   ],
   "source": [
    "import pandas as pd\n",
    "\n",
    "series_of_lists = pd.Series([[1, 2, 3], [4, 5,6], [7, 8, 9]])\n",
    "\n",
    "result_series = series_of_lists.explode()\n",
    "\n",
    "print(\"Original Series of Lists:\")\n",
    "print(series_of_lists)\n",
    "\n",
    "print(\"\\nConverted Series:\")\n",
    "print(result_series)"
   ]
  },
  {
   "cell_type": "markdown",
   "id": "be1b1948",
   "metadata": {},
   "source": [
    "2.Write a Pandas program to create a subset of a given series based on value and\n",
    "condition."
   ]
  },
  {
   "cell_type": "code",
   "execution_count": 4,
   "id": "a15db4d9",
   "metadata": {},
   "outputs": [
    {
     "name": "stdout",
     "output_type": "stream",
     "text": [
      "Original Series:\n",
      "0    100\n",
      "1     90\n",
      "2     30\n",
      "3     40\n",
      "4     30\n",
      "dtype: int64\n",
      "\n",
      "Subset based on condition (values greater than 30):\n",
      "0    100\n",
      "1     90\n",
      "3     40\n",
      "dtype: int64\n"
     ]
    }
   ],
   "source": [
    "import pandas as pd\n",
    "\n",
    "my_series = pd.Series([100, 90, 30, 40, 30])\n",
    "condition = my_series > 30\n",
    "subset = my_series[condition]\n",
    "\n",
    "print(\"Original Series:\")\n",
    "print(my_series)\n",
    "\n",
    "print(\"\\nSubset based on condition (values greater than 30):\")\n",
    "print(subset)"
   ]
  },
  {
   "cell_type": "markdown",
   "id": "829efeab",
   "metadata": {},
   "source": [
    "3.Write a Pandas program to display most frequent value in a given series and replace\n",
    "everything else as 'others' in the series"
   ]
  },
  {
   "cell_type": "code",
   "execution_count": 5,
   "id": "8ad275c8",
   "metadata": {},
   "outputs": [
    {
     "name": "stdout",
     "output_type": "stream",
     "text": [
      "0    Other\n",
      "1    Other\n",
      "2    Other\n",
      "3    Other\n",
      "4    Other\n",
      "5        4\n",
      "6        4\n",
      "7        4\n",
      "dtype: object\n"
     ]
    }
   ],
   "source": [
    "import pandas as pd\n",
    "\n",
    "my_series = pd.Series([1, 2, 2,3, 3, 4, 4, 4])\n",
    "most_frequent_value = my_series.mode().iloc[0]\n",
    "my_series = my_series.apply(lambda x: most_frequent_value if x == most_frequent_value else 'Other')\n",
    "\n",
    "print(my_series)"
   ]
  },
  {
   "cell_type": "markdown",
   "id": "6c7eea34",
   "metadata": {},
   "source": [
    "4.Write a Pandas program to find the positions of numbers that are multiples of 5 of a\n",
    "given series."
   ]
  },
  {
   "cell_type": "code",
   "execution_count": 6,
   "id": "fe6d043b",
   "metadata": {},
   "outputs": [
    {
     "name": "stdout",
     "output_type": "stream",
     "text": [
      "Original Series:\n",
      "0     1\n",
      "1     5\n",
      "2    10\n",
      "3    15\n",
      "4    20\n",
      "5    25\n",
      "6    30\n",
      "7    35\n",
      "8    40\n",
      "dtype: int64\n",
      "\n",
      "Positions of numbers that are multiples of 5:\n",
      "Int64Index([1, 2, 3, 4, 5, 6, 7, 8], dtype='int64')\n"
     ]
    }
   ],
   "source": [
    "import pandas as pd\n",
    "\n",
    "my_series = pd.Series([1, 5, 10, 15, 20, 25, 30, 35, 40])\n",
    "\n",
    "positions_of_multiples_of_5 = my_series.index[my_series % 5 == 0]\n",
    "\n",
    "print(\"Original Series:\")\n",
    "print(my_series)\n",
    "\n",
    "print(\"\\nPositions of numbers that are multiples of 5:\")\n",
    "print(positions_of_multiples_of_5)"
   ]
  },
  {
   "cell_type": "markdown",
   "id": "364692f7",
   "metadata": {},
   "source": [
    "5.Write a Pandas program to calculate the number of characters in each word in a given\n",
    "series."
   ]
  },
  {
   "cell_type": "code",
   "execution_count": 7,
   "id": "79c86024",
   "metadata": {},
   "outputs": [
    {
     "name": "stdout",
     "output_type": "stream",
     "text": [
      "Original Series:\n",
      "0    Niteesh\n",
      "1    Subhash\n",
      "2        Jai\n",
      "3     Shannu\n",
      "dtype: object\n",
      "\n",
      "Number of characters in each word:\n",
      "0    7\n",
      "1    7\n",
      "2    3\n",
      "3    6\n",
      "dtype: int64\n"
     ]
    }
   ],
   "source": [
    "import pandas as pd\n",
    "\n",
    "my_series = pd.Series(['Niteesh', 'Subhash', 'Jai', 'Shannu'])\n",
    "word_lengths = my_series.str.len()\n",
    "\n",
    "print(\"Original Series:\")\n",
    "print(my_series)\n",
    "\n",
    "print(\"\\nNumber of characters in each word:\")\n",
    "print(word_lengths)"
   ]
  },
  {
   "cell_type": "markdown",
   "id": "06bd7b13",
   "metadata": {},
   "source": [
    "6.Write a Pandas program to convert year-month string to dates adding a specified day\n",
    "of the month."
   ]
  },
  {
   "cell_type": "code",
   "execution_count": 8,
   "id": "6537b5d6",
   "metadata": {},
   "outputs": [
    {
     "name": "stdout",
     "output_type": "stream",
     "text": [
      "  Year-Month String Converted Date\n",
      "0           2022-01     2022-01-06\n",
      "1           2022-02     2022-02-06\n",
      "2           2022-03     2022-03-06\n",
      "3           2022-04     2022-04-06\n"
     ]
    }
   ],
   "source": [
    "import pandas as pd\n",
    "\n",
    "year_month_strings = pd.Series(['2022-01', '2022-02', '2022-03', '2022-04'])\n",
    "specified_day = 6\n",
    "\n",
    "dates_with_specified_day = pd.to_datetime(year_month_strings + '-' + str(specified_day), format='%Y-%m-%d')\n",
    "\n",
    "result_df = pd.DataFrame({\n",
    "    'Year-Month String': year_month_strings,\n",
    "    'Converted Date': dates_with_specified_day\n",
    "})\n",
    "\n",
    "print(result_df)"
   ]
  },
  {
   "cell_type": "markdown",
   "id": "407239e3",
   "metadata": {},
   "source": [
    "7.Write a Pandas program to create and display a DataFrame from a specified\n",
    "dictionary data which has the index labels."
   ]
  },
  {
   "cell_type": "code",
   "execution_count": 12,
   "id": "6ddc61d4",
   "metadata": {},
   "outputs": [
    {
     "name": "stdout",
     "output_type": "stream",
     "text": [
      "      name  score\n",
      "a  Niteesh   12.5\n",
      "b  srinadh    9.0\n",
      "c  manohar   16.5\n"
     ]
    }
   ],
   "source": [
    "import pandas as pd\n",
    "\n",
    "data  = {'name': ['Niteesh', 'srinadh', 'manohar'],\n",
    "        'score': [12.5, 9, 16.5]}\n",
    "labels = ['a', 'b', 'c']\n",
    "\n",
    "df = pd.DataFrame(data , index=labels)\n",
    "print(df)\n"
   ]
  },
  {
   "cell_type": "markdown",
   "id": "7318bb87",
   "metadata": {},
   "source": [
    "8.Write a Pandas program to select the rows where the number of attempts in the\n",
    "examination is greater than 2."
   ]
  },
  {
   "cell_type": "code",
   "execution_count": 15,
   "id": "38185a11",
   "metadata": {},
   "outputs": [
    {
     "name": "stdout",
     "output_type": "stream",
     "text": [
      "      name  score  attempts\n",
      "b  srinadh    9.0         3\n"
     ]
    }
   ],
   "source": [
    "import pandas as pd\n",
    "\n",
    "data  = {'name': ['Niteesh', 'srinadh', 'manohar'],\n",
    "        'score': [12.5, 9, 16.5],\n",
    "        'attempts' : [1, 3, 2]}\n",
    "labels = ['a', 'b', 'c']\n",
    "\n",
    "df = pd.DataFrame(data , index=labels)\n",
    "print(df[df['attempts'] > 2])"
   ]
  },
  {
   "cell_type": "markdown",
   "id": "1e9c7b98",
   "metadata": {},
   "source": [
    "9.Write a Pandas program to append a new row 'k' to data frame with given values for\n",
    "each column. Now delete the new row and return the original DataFrame."
   ]
  },
  {
   "cell_type": "code",
   "execution_count": 19,
   "id": "010f1109",
   "metadata": {},
   "outputs": [
    {
     "name": "stdout",
     "output_type": "stream",
     "text": [
      "\n",
      "Append a new row:\n",
      "Print all records after insert a new record:\n",
      "      name  score  attempts\n",
      "b  srinadh    9.0         3\n",
      "c  manohar   16.5         2\n",
      "a  Niteesh   12.5         1\n",
      "d   jhansy   12.0         0\n",
      "\n",
      "Delete the new row and display the original  rows:\n",
      "      name  score  attempts\n",
      "b  srinadh    9.0         3\n",
      "c  manohar   16.5         2\n",
      "a  Niteesh   12.5         1\n"
     ]
    }
   ],
   "source": [
    "data  = {'name': ['Niteesh', 'srinadh', 'manohar'],\n",
    "        'score': [12.5, 9, 16.5],\n",
    "        'attempts' : [1, 3, 2]}\n",
    "labels = ['a', 'b', 'c']\n",
    "print(\"\\nAppend a new row:\")\n",
    "df.loc['d'] = ['jhansy',12,0]\n",
    "print(\"Print all records after insert a new record:\")\n",
    "print(df)\n",
    "print(\"\\nDelete the new row and display the original  rows:\")\n",
    "df = df.drop('d')\n",
    "print(df)"
   ]
  },
  {
   "cell_type": "markdown",
   "id": "f7a06bdb",
   "metadata": {},
   "source": [
    "10.Write a Pandas program to sort the DataFrame first by 'name' in descending order,\n",
    "then by 'score' in ascending order."
   ]
  },
  {
   "cell_type": "code",
   "execution_count": 17,
   "id": "3f570cb0",
   "metadata": {},
   "outputs": [
    {
     "name": "stdout",
     "output_type": "stream",
     "text": [
      "Orginal rows:\n",
      "      name  score  attempts\n",
      "a  Niteesh   12.5         1\n",
      "b  srinadh    9.0         3\n",
      "c  manohar   16.5         2\n",
      "Sort the data frame first by ‘name’ in descending order, then by ‘score’ in ascending order:\n",
      "      name  score  attempts\n",
      "b  srinadh    9.0         3\n",
      "c  manohar   16.5         2\n",
      "a  Niteesh   12.5         1\n"
     ]
    }
   ],
   "source": [
    "import pandas as pd\n",
    "\n",
    "data  = {'name': ['Niteesh', 'srinadh', 'manohar'],\n",
    "        'score': [12.5, 9, 16.5],\n",
    "        'attempts' : [1, 3, 2]}\n",
    "labels = ['a', 'b', 'c']\n",
    "\n",
    "df = pd.DataFrame(data , index=labels)\n",
    "print(\"Orginal rows:\")\n",
    "print(df)\n",
    "df = df.sort_values(by=['name', 'score'], ascending=[False, True])\n",
    "print(\"Sort the data frame first by ‘name’ in descending order, then by ‘score’ in ascending order:\")\n",
    "print(df)"
   ]
  },
  {
   "cell_type": "markdown",
   "id": "50a1cd55",
   "metadata": {},
   "source": [
    "11.Write a Pandas program to replace the 'qualify' column contains the values 'yes' and\n",
    "'no' with True and False."
   ]
  },
  {
   "cell_type": "code",
   "execution_count": 22,
   "id": "449e8316",
   "metadata": {},
   "outputs": [
    {
     "name": "stdout",
     "output_type": "stream",
     "text": [
      "\n",
      "Replace the 'qualify' column contains the values 'yes' and 'no'  with True and  False:\n",
      "      name  score  attempts  qualify\n",
      "a  Niteesh   12.5         1     True\n",
      "b  srinadh    9.0         3    False\n",
      "c  manohar   16.5         2     True\n"
     ]
    }
   ],
   "source": [
    "data  = {'name': ['Niteesh', 'srinadh', 'manohar'],\n",
    "        'score': [12.5, 9, 16.5],\n",
    "        'attempts' : [1, 3, 2],\n",
    "        'qualify': ['yes', 'no', 'yes']}\n",
    "labels = ['a', 'b', 'c']\n",
    "df = pd.DataFrame(data , index=labels)\n",
    "\n",
    "print(\"\\nReplace the 'qualify' column contains the values 'yes' and 'no'  with True and  False:\")\n",
    "df['qualify'] = df['qualify'].map({'yes': True, 'no': False})\n",
    "print(df)"
   ]
  },
  {
   "cell_type": "markdown",
   "id": "3f6f896c",
   "metadata": {},
   "source": [
    "12.Write a Pandas program to remove infinite values from a given DataFrame."
   ]
  },
  {
   "cell_type": "code",
   "execution_count": 23,
   "id": "4ec1acf3",
   "metadata": {},
   "outputs": [
    {
     "name": "stdout",
     "output_type": "stream",
     "text": [
      "Original DataFrame:\n",
      "      Name  Score\n",
      "0  Subhash   90.0\n",
      "1  Niteesh    NaN\n",
      "2   Harsha   95.0\n",
      "3      Anu    NaN\n",
      "\n",
      "DataFrame after removing infinite values:\n",
      "      Name  Score\n",
      "0  Subhash   90.0\n",
      "2   Harsha   95.0\n"
     ]
    }
   ],
   "source": [
    "import pandas as pd\n",
    "import numpy as np\n",
    "\n",
    "data = {\n",
    "    'Name': ['Subhash','Niteesh','Harsha','Anu'],\n",
    "    'Score': [90, np.inf, 95, -np.inf]\n",
    "}\n",
    "\n",
    "df = pd.DataFrame(data)\n",
    "df.replace([np.inf, -np.inf], np.nan, inplace=True)\n",
    "df_cleaned = df.dropna()\n",
    "\n",
    "print(\"Original DataFrame:\")\n",
    "print(df)\n",
    "\n",
    "print(\"\\nDataFrame after removing infinite values:\")\n",
    "print(df_cleaned)"
   ]
  },
  {
   "cell_type": "code",
   "execution_count": null,
   "id": "87a6f57e",
   "metadata": {},
   "outputs": [],
   "source": []
  }
 ],
 "metadata": {
  "kernelspec": {
   "display_name": "Python 3 (ipykernel)",
   "language": "python",
   "name": "python3"
  },
  "language_info": {
   "codemirror_mode": {
    "name": "ipython",
    "version": 3
   },
   "file_extension": ".py",
   "mimetype": "text/x-python",
   "name": "python",
   "nbconvert_exporter": "python",
   "pygments_lexer": "ipython3",
   "version": "3.10.9"
  }
 },
 "nbformat": 4,
 "nbformat_minor": 5
}
